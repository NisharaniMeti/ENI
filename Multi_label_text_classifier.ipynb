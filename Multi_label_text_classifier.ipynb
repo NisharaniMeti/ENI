{
  "nbformat": 4,
  "nbformat_minor": 0,
  "metadata": {
    "colab": {
      "provenance": [],
      "collapsed_sections": [],
      "authorship_tag": "ABX9TyONoJeRRUA4ggl3i5hN28is",
      "include_colab_link": true
    },
    "kernelspec": {
      "name": "python3",
      "display_name": "Python 3"
    },
    "language_info": {
      "name": "python"
    }
  },
  "cells": [
    {
      "cell_type": "markdown",
      "metadata": {
        "id": "view-in-github",
        "colab_type": "text"
      },
      "source": [
        "<a href=\"https://colab.research.google.com/github/NisharaniMeti/ENI/blob/main/Multi_label_text_classifier.ipynb\" target=\"_parent\"><img src=\"https://colab.research.google.com/assets/colab-badge.svg\" alt=\"Open In Colab\"/></a>"
      ]
    },
    {
      "cell_type": "code",
      "execution_count": null,
      "metadata": {
        "id": "AZlJftPAyLjv"
      },
      "outputs": [],
      "source": [
        "import pandas as pd\n",
        "#!pip install simpletransformers"
      ]
    },
    {
      "cell_type": "code",
      "source": [
        "#load dataset\n",
        "df = pd.read_csv('//content/train.csv')\n",
        "df.head()"
      ],
      "metadata": {
        "id": "SaRiM88LyOBM"
      },
      "execution_count": null,
      "outputs": []
    },
    {
      "cell_type": "code",
      "source": [
        "df['labels'] = list(zip(df.toxic.tolist(), df.severe_toxic.tolist(), df.obscene.tolist(), df.threat.tolist(),  df.insult.tolist(), df.identity_hate.tolist()))\n",
        "#df['labels'] = df['labels'].astype(int)\n",
        "df['text'] = df['comment_text'].apply(lambda x: str(x).replace('\\n', ' '))\n",
        "\n",
        "df.head()"
      ],
      "metadata": {
        "id": "ku7N2OltyPpf"
      },
      "execution_count": null,
      "outputs": []
    },
    {
      "cell_type": "code",
      "source": [
        "#split the df into train and eval datasets so we can validate the model\n",
        "from sklearn.model_selection import train_test_split\n",
        "\n",
        "train_df, eval_df = train_test_split(df, test_size=0.2)"
      ],
      "metadata": {
        "id": "93LISm5YyTXe"
      },
      "execution_count": null,
      "outputs": []
    },
    {
      "cell_type": "code",
      "source": [
        "#Create Multi-label Classification Model\n",
        "from simpletransformers.classification import MultiLabelClassificationModel\n",
        "\n",
        "\n",
        "model = MultiLabelClassificationModel('roberta', 'roberta-base', num_labels=6, args={'train_batch_size':2, 'gradient_accumulation_steps':16, 'learning_rate': 3e-5, 'num_train_epochs': 3, 'max_seq_length': 512})"
      ],
      "metadata": {
        "id": "eH5NybZSyV0U"
      },
      "execution_count": null,
      "outputs": []
    },
    {
      "cell_type": "code",
      "source": [
        "# Train the model\n",
        "model.train_model(train_df)"
      ],
      "metadata": {
        "id": "FG62T3y8yYff"
      },
      "execution_count": null,
      "outputs": []
    },
    {
      "cell_type": "code",
      "source": [
        "#Evaluate the model\n",
        "result, model_outputs, wrong_predictions = model.eval_model(eval_df)"
      ],
      "metadata": {
        "id": "sqc9ejDfyb2z"
      },
      "execution_count": null,
      "outputs": []
    },
    {
      "cell_type": "code",
      "source": [
        "#Predict/test the model\n",
        "test_df = pd.read_csv('//content/test.csv')\n",
        "\n",
        "to_predict = test_df.comment_text.apply(lambda x: x.replace('\\n', ' ')).tolist()\n",
        "preds, outputs = model.predict(to_predict)\n",
        "\n",
        "sub_df = pd.DataFrame(outputs, columns=['toxic','severe_toxic','obscene','threat','insult','identity_hate'])\n",
        "\n",
        "\n",
        "sub_df['id'] = test_df['id']\n",
        "sub_df = sub_df[['id', 'toxic','severe_toxic','obscene','threat','insult','identity_hate']]\n",
        "\n",
        "sub_df.to_csv('//content/outputs/submission.csv', index=False)"
      ],
      "metadata": {
        "id": "vGW9DEoxyerc"
      },
      "execution_count": null,
      "outputs": []
    }
  ]
}